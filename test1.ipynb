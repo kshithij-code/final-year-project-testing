{
 "cells": [
  {
   "cell_type": "code",
   "execution_count": 12,
   "id": "d63c297c",
   "metadata": {},
   "outputs": [],
   "source": [
    "from transformers import AutoModel,AutoTokenizer\n",
    "import torch.nn.functional as F"
   ]
  },
  {
   "cell_type": "code",
   "execution_count": 13,
   "id": "b4160e63",
   "metadata": {},
   "outputs": [],
   "source": [
    "tokenizer = AutoTokenizer.from_pretrained(\"bert-base-uncased\")\n",
    "model = AutoModel.from_pretrained(\"bert-base-uncased\",output_hidden_states=True)"
   ]
  },
  {
   "cell_type": "code",
   "execution_count": 14,
   "id": "e4660a11",
   "metadata": {},
   "outputs": [],
   "source": [
    "sentence_1=\"dead\"\n",
    "sentence_2=\"born\"\n",
    "\n",
    "token_1=tokenizer(\"dead\",return_tensors=\"pt\")\n",
    "token_2=tokenizer(\"born\",return_tensors=\"pt\")\n",
    "\n",
    "sentence_1_embedding=model(**token_1).hidden_states\n",
    "sentence_2_embedding=model(**token_2).hidden_states\n"
   ]
  },
  {
   "cell_type": "code",
   "execution_count": 15,
   "id": "c0864f65",
   "metadata": {},
   "outputs": [],
   "source": [
    "vector_1=sentence_1_embedding[12][0][0].unsqueeze(0)\n",
    "vector_2=sentence_2_embedding[12][0][0].unsqueeze(0)"
   ]
  },
  {
   "cell_type": "code",
   "execution_count": 16,
   "id": "7c48e0b5",
   "metadata": {},
   "outputs": [
    {
     "data": {
      "text/plain": [
       "tensor([0.9177], grad_fn=<SumBackward1>)"
      ]
     },
     "execution_count": 16,
     "metadata": {},
     "output_type": "execute_result"
    }
   ],
   "source": [
    "F.cosine_similarity(vector_1,vector_2)"
   ]
  },
  {
   "cell_type": "code",
   "execution_count": 17,
   "id": "33eeee1b",
   "metadata": {},
   "outputs": [
    {
     "data": {
      "text/plain": [
       "tensor([[0.4146]])"
      ]
     },
     "execution_count": 17,
     "metadata": {},
     "output_type": "execute_result"
    }
   ],
   "source": [
    "from sentence_transformers import SentenceTransformer, util\n",
    "\n",
    "sentence_model = SentenceTransformer('all-MiniLM-L6-v2')\n",
    "\n",
    "emb1 = sentence_model.encode(\"dead\", convert_to_tensor=True)\n",
    "emb2 = sentence_model.encode(\"born\", convert_to_tensor=True)\n",
    "\n",
    "util.cos_sim(emb1, emb2)\n"
   ]
  },
  {
   "cell_type": "code",
   "execution_count": 18,
   "id": "301bc0c0",
   "metadata": {},
   "outputs": [
    {
     "data": {
      "text/plain": [
       "[{'student': 'at sea level 100 celsius degree boils Water.',\n",
       "  'answer_key': 'Water boils at 100 degree celsius at sea level.'},\n",
       " {'student': 'powerhouse cell mitochondria the is of The.',\n",
       "  'answer_key': 'The mitochondria is the powerhouse of the cell.'},\n",
       " {'student': 'law states force upon unless uniform acted object motion an an of external rest in first Newtonâ€™s remains a or.',\n",
       "  'answer_key': 'Newtonâ€™s first law states that an object remains in a state of rest or uniform motion unless acted upon by an external force.'},\n",
       " {'student': 'leaves the chloroplasts happens plants. Photosynthesis the of in in',\n",
       "  'answer_key': 'Photosynthesis happens in the leaves of plants, in the chloroplasts.'},\n",
       " {'student': 'capital Paris. of The France is',\n",
       "  'answer_key': 'The capital of France is Paris.'},\n",
       " {'student': 'change of velocity time. with Acceleration respect is to of rate the',\n",
       "  'answer_key': 'Acceleration is the rate of change of velocity with respect to time.'},\n",
       " {'student': 'solar planet system in Jupiter. our largest is The',\n",
       "  'answer_key': 'The largest planet in our solar system is Jupiter.'},\n",
       " {'student': 'triangle, in a Pythagoras right theorem aÂ² + cÂ². bÂ² = says',\n",
       "  'answer_key': 'In a right triangle, Pythagoras theorem says aÂ² + bÂ² = cÂ².'}]"
      ]
     },
     "execution_count": 18,
     "metadata": {},
     "output_type": "execute_result"
    }
   ],
   "source": [
    "#Testing Data\n",
    "import json \n",
    "datas=json.load(open(\"datas1.json\"))\n",
    "datas"
   ]
  },
  {
   "cell_type": "code",
   "execution_count": 19,
   "id": "394a0dfb",
   "metadata": {},
   "outputs": [
    {
     "name": "stdout",
     "output_type": "stream",
     "text": [
      "0.8676475882530212\n",
      "0.8583948612213135\n",
      "0.8573887348175049\n",
      "0.8058281540870667\n",
      "0.7572724223136902\n",
      "0.7925795912742615\n",
      "0.8996734619140625\n",
      "0.8967288732528687\n"
     ]
    }
   ],
   "source": [
    "def bert_base_eval(datas):\n",
    "    for data in datas:\n",
    "        tok_1=tokenizer(data[\"answer_key\"],return_tensors=\"pt\")\n",
    "        tok_2=tokenizer(data[\"student\"],return_tensors=\"pt\")\n",
    "        \n",
    "        sen_1=model(**tok_1).hidden_states[12][0][0]\n",
    "        sen_2=model(**tok_2).hidden_states[12][0][0]\n",
    "        similarity_score=F.cosine_similarity(sen_1.unsqueeze(0),sen_2.unsqueeze(0))\n",
    "        data[\"result\"]=similarity_score[0].item()\n",
    "        print(similarity_score[0].item())\n",
    "    return datas\n",
    "datas=bert_base_eval(datas)"
   ]
  },
  {
   "cell_type": "code",
   "execution_count": 20,
   "id": "295ab11f",
   "metadata": {},
   "outputs": [],
   "source": [
    "json.dump(datas,open(\"result.json\",\"w\"))"
   ]
  },
  {
   "cell_type": "code",
   "execution_count": 21,
   "id": "bcd3e985",
   "metadata": {},
   "outputs": [
    {
     "name": "stdout",
     "output_type": "stream",
     "text": [
      "0.971549391746521\n",
      "0.9411647319793701\n",
      "0.8498973846435547\n",
      "0.9112030863761902\n",
      "0.9515818357467651\n",
      "0.8504413366317749\n",
      "0.9069758653640747\n",
      "0.9461259841918945\n"
     ]
    }
   ],
   "source": [
    "def miniLM_eval(datas):\n",
    "    for data in datas:\n",
    "        emb1 = sentence_model.encode(data[\"student\"], convert_to_tensor=True)\n",
    "        emb2 = sentence_model.encode(data['answer_key'], convert_to_tensor=True)\n",
    "        print(util.cos_sim(emb1, emb2).item())\n",
    "miniLM_eval(datas)"
   ]
  },
  {
   "cell_type": "code",
   "execution_count": 22,
   "id": "a609ea50",
   "metadata": {},
   "outputs": [
    {
     "name": "stdout",
     "output_type": "stream",
     "text": [
      "0.929330587387085\n",
      "0.8221029043197632\n",
      "0.713216245174408\n",
      "0.892433226108551\n",
      "0.8916035294532776\n",
      "0.7825384736061096\n",
      "0.8471053242683411\n",
      "0.8463495373725891\n"
     ]
    },
    {
     "data": {
      "text/plain": [
       "[{'student': 'Water boils 100Â°C sea level',\n",
       "  'answer_key': 'Water boils at 100 degree celsius at sea level.',\n",
       "  'result': 0.929330587387085},\n",
       " {'student': 'Mitochondria powerhouse cell',\n",
       "  'answer_key': 'The mitochondria is the powerhouse of the cell.',\n",
       "  'result': 0.8221029043197632},\n",
       " {'student': 'Newton first law rest motion external force',\n",
       "  'answer_key': 'Newtonâ€™s first law states that an object remains in a state of rest or uniform motion unless acted upon by an external force.',\n",
       "  'result': 0.713216245174408},\n",
       " {'student': 'Photosynthesis leaves plants chloroplasts',\n",
       "  'answer_key': 'Photosynthesis happens in the leaves of plants, in the chloroplasts.',\n",
       "  'result': 0.892433226108551},\n",
       " {'student': 'Capital France Paris',\n",
       "  'answer_key': 'The capital of France is Paris.',\n",
       "  'result': 0.8916035294532776},\n",
       " {'student': 'Acceleration rate change velocity time',\n",
       "  'answer_key': 'Acceleration is the rate of change of velocity with respect to time.',\n",
       "  'result': 0.7825384736061096},\n",
       " {'student': 'Largest planet solar system Jupiter',\n",
       "  'answer_key': 'The largest planet in our solar system is Jupiter.',\n",
       "  'result': 0.8471053242683411},\n",
       " {'student': 'Right triangle Pythagoras theorem aÂ² + bÂ² = cÂ²',\n",
       "  'answer_key': 'In a right triangle, Pythagoras theorem says aÂ² + bÂ² = cÂ².',\n",
       "  'result': 0.8463495373725891}]"
      ]
     },
     "execution_count": 22,
     "metadata": {},
     "output_type": "execute_result"
    }
   ],
   "source": [
    "bert_base_eval(json.load(open(\"datas2.json\",'r')))"
   ]
  },
  {
   "cell_type": "code",
   "execution_count": null,
   "id": "bce68a94",
   "metadata": {},
   "outputs": [],
   "source": []
  }
 ],
 "metadata": {
  "kernelspec": {
   "display_name": ".venv",
   "language": "python",
   "name": "python3"
  },
  "language_info": {
   "codemirror_mode": {
    "name": "ipython",
    "version": 3
   },
   "file_extension": ".py",
   "mimetype": "text/x-python",
   "name": "python",
   "nbconvert_exporter": "python",
   "pygments_lexer": "ipython3",
   "version": "3.12.4"
  }
 },
 "nbformat": 4,
 "nbformat_minor": 5
}
