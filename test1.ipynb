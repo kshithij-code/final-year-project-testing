{
 "cells": [
  {
   "cell_type": "code",
   "execution_count": 2,
   "id": "d63c297c",
   "metadata": {},
   "outputs": [
    {
     "name": "stderr",
     "output_type": "stream",
     "text": [
      "d:\\final-year-project-testing\\.venv\\Lib\\site-packages\\tqdm\\auto.py:21: TqdmWarning: IProgress not found. Please update jupyter and ipywidgets. See https://ipywidgets.readthedocs.io/en/stable/user_install.html\n",
      "  from .autonotebook import tqdm as notebook_tqdm\n"
     ]
    }
   ],
   "source": [
    "from transformers import AutoModel,AutoTokenizer\n",
    "import torch.nn.functional as F"
   ]
  },
  {
   "cell_type": "code",
   "execution_count": 2,
   "id": "b4160e63",
   "metadata": {},
   "outputs": [
    {
     "name": "stderr",
     "output_type": "stream",
     "text": [
      "d:\\final-year-project-testing\\.venv\\Lib\\site-packages\\huggingface_hub\\file_download.py:143: UserWarning: `huggingface_hub` cache-system uses symlinks by default to efficiently store duplicated files but your machine does not support them in C:\\Users\\student\\.cache\\huggingface\\hub\\models--bert-base-uncased. Caching files will still work but in a degraded version that might require more space on your disk. This warning can be disabled by setting the `HF_HUB_DISABLE_SYMLINKS_WARNING` environment variable. For more details, see https://huggingface.co/docs/huggingface_hub/how-to-cache#limitations.\n",
      "To support symlinks on Windows, you either need to activate Developer Mode or to run Python as an administrator. In order to activate developer mode, see this article: https://docs.microsoft.com/en-us/windows/apps/get-started/enable-your-device-for-development\n",
      "  warnings.warn(message)\n",
      "Xet Storage is enabled for this repo, but the 'hf_xet' package is not installed. Falling back to regular HTTP download. For better performance, install the package with: `pip install huggingface_hub[hf_xet]` or `pip install hf_xet`\n"
     ]
    }
   ],
   "source": [
    "tokenizer = AutoTokenizer.from_pretrained(\"bert-base-uncased\")\n",
    "model = AutoModel.from_pretrained(\"bert-base-uncased\",output_hidden_states=True)"
   ]
  },
  {
   "cell_type": "code",
   "execution_count": 3,
   "id": "e4660a11",
   "metadata": {},
   "outputs": [],
   "source": [
    "sentence_1=\"dead\"\n",
    "sentence_2=\"born\"\n",
    "\n",
    "token_1=tokenizer(\"dead\",return_tensors=\"pt\")\n",
    "token_2=tokenizer(\"born\",return_tensors=\"pt\")\n",
    "\n",
    "sentence_1_embedding=model(**token_1).hidden_states\n",
    "sentence_2_embedding=model(**token_2).hidden_states\n"
   ]
  },
  {
   "cell_type": "code",
   "execution_count": 16,
   "id": "c0864f65",
   "metadata": {},
   "outputs": [],
   "source": [
    "vector_1=sentence_1_embedding[12][0][0].unsqueeze(0)\n",
    "vector_2=sentence_2_embedding[12][0][0].unsqueeze(0)"
   ]
  },
  {
   "cell_type": "code",
   "execution_count": 5,
   "id": "7c48e0b5",
   "metadata": {},
   "outputs": [
    {
     "data": {
      "text/plain": [
       "tensor([0.9177], grad_fn=<SumBackward1>)"
      ]
     },
     "execution_count": 5,
     "metadata": {},
     "output_type": "execute_result"
    }
   ],
   "source": [
    "F.cosine_similarity(vector_1,vector_2)"
   ]
  },
  {
   "cell_type": "code",
   "execution_count": 6,
   "id": "33eeee1b",
   "metadata": {},
   "outputs": [
    {
     "data": {
      "text/plain": [
       "tensor([[0.4146]], device='cuda:0')"
      ]
     },
     "execution_count": 6,
     "metadata": {},
     "output_type": "execute_result"
    }
   ],
   "source": [
    "from sentence_transformers import SentenceTransformer, util\n",
    "\n",
    "sentence_model = SentenceTransformer('all-MiniLM-L6-v2')\n",
    "\n",
    "emb1 = sentence_model.encode(\"dead\", convert_to_tensor=True)\n",
    "emb2 = sentence_model.encode(\"born\", convert_to_tensor=True)\n",
    "\n",
    "util.cos_sim(emb1, emb2)\n"
   ]
  },
  {
   "cell_type": "code",
   "execution_count": 7,
   "id": "301bc0c0",
   "metadata": {},
   "outputs": [
    {
     "data": {
      "text/plain": [
       "[{'student': 'at sea level 100 celsius degree boils Water.',\n",
       "  'answer_key': 'Water boils at 100 degree celsius at sea level.'},\n",
       " {'student': 'powerhouse cell mitochondria the is of The.',\n",
       "  'answer_key': 'The mitochondria is the powerhouse of the cell.'},\n",
       " {'student': 'law states force upon unless uniform acted object motion an an of external rest in first Newtonâ€™s remains a or.',\n",
       "  'answer_key': 'Newtonâ€™s first law states that an object remains in a state of rest or uniform motion unless acted upon by an external force.'},\n",
       " {'student': 'leaves the chloroplasts happens plants. Photosynthesis the of in in',\n",
       "  'answer_key': 'Photosynthesis happens in the leaves of plants, in the chloroplasts.'},\n",
       " {'student': 'capital Paris. of The France is',\n",
       "  'answer_key': 'The capital of France is Paris.'},\n",
       " {'student': 'change of velocity time. with Acceleration respect is to of rate the',\n",
       "  'answer_key': 'Acceleration is the rate of change of velocity with respect to time.'},\n",
       " {'student': 'solar planet system in Jupiter. our largest is The',\n",
       "  'answer_key': 'The largest planet in our solar system is Jupiter.'},\n",
       " {'student': 'triangle, in a Pythagoras right theorem aÂ² + cÂ². bÂ² = says',\n",
       "  'answer_key': 'In a right triangle, Pythagoras theorem says aÂ² + bÂ² = cÂ².'}]"
      ]
     },
     "execution_count": 7,
     "metadata": {},
     "output_type": "execute_result"
    }
   ],
   "source": [
    "#Testing Data\n",
    "import json \n",
    "datas=json.load(open(\"datas1.json\"))\n",
    "datas"
   ]
  },
  {
   "cell_type": "code",
   "execution_count": 8,
   "id": "394a0dfb",
   "metadata": {},
   "outputs": [
    {
     "name": "stdout",
     "output_type": "stream",
     "text": [
      "0.8676475882530212\n",
      "0.8583948612213135\n",
      "0.8573887348175049\n",
      "0.8058281540870667\n",
      "0.7572724223136902\n",
      "0.7925795912742615\n",
      "0.8996734619140625\n",
      "0.8967288732528687\n"
     ]
    }
   ],
   "source": [
    "def bert_base_eval(datas):\n",
    "    for data in datas:\n",
    "        tok_1=tokenizer(data[\"answer_key\"],return_tensors=\"pt\")\n",
    "        tok_2=tokenizer(data[\"student\"],return_tensors=\"pt\")\n",
    "        \n",
    "        sen_1=model(**tok_1).hidden_states[12][0][0]\n",
    "        sen_2=model(**tok_2).hidden_states[12][0][0]\n",
    "        similarity_score=F.cosine_similarity(sen_1.unsqueeze(0),sen_2.unsqueeze(0))\n",
    "        data[\"result\"]=similarity_score[0].item()\n",
    "        print(similarity_score[0].item())\n",
    "    return datas\n",
    "datas=bert_base_eval(datas)"
   ]
  },
  {
   "cell_type": "code",
   "execution_count": 20,
   "id": "295ab11f",
   "metadata": {},
   "outputs": [],
   "source": [
    "json.dump(datas,open(\"result.json\",\"w\"))"
   ]
  },
  {
   "cell_type": "code",
   "execution_count": 19,
   "id": "bcd3e985",
   "metadata": {},
   "outputs": [
    {
     "name": "stdout",
     "output_type": "stream",
     "text": [
      "0.9715495109558105\n",
      "0.9411647915840149\n",
      "0.8498974442481995\n",
      "0.9112030267715454\n",
      "0.9515819549560547\n",
      "0.8504413366317749\n",
      "0.9069757461547852\n",
      "0.946125864982605\n"
     ]
    }
   ],
   "source": [
    "def miniLM_eval(datas):\n",
    "    for data in datas:\n",
    "        emb1 = sentence_model.encode(data[\"student\"], convert_to_tensor=True)\n",
    "        emb2 = sentence_model.encode(data['answer_key'], convert_to_tensor=True)\n",
    "        print(util.cos_sim(emb1, emb2).item())\n",
    "miniLM_eval(datas)"
   ]
  },
  {
   "cell_type": "code",
   "execution_count": 24,
   "id": "626a6f4a",
   "metadata": {},
   "outputs": [
    {
     "name": "stdout",
     "output_type": "stream",
     "text": [
      "0.9698219299316406\n",
      "0.9241585731506348\n",
      "0.9132532477378845\n",
      "0.8559527397155762\n",
      "0.7573239207267761\n",
      "0.8477521538734436\n",
      "0.9327422380447388\n",
      "0.9517584443092346\n"
     ]
    }
   ],
   "source": [
    "miniLM_eval(json.load(open(\"datas.json\",'r')))"
   ]
  },
  {
   "cell_type": "code",
   "execution_count": 25,
   "id": "33a51153",
   "metadata": {},
   "outputs": [
    {
     "name": "stdout",
     "output_type": "stream",
     "text": [
      "0.925910472869873\n",
      "0.9345394372940063\n",
      "0.7338201403617859\n",
      "0.8938953876495361\n",
      "0.94517982006073\n",
      "0.7775416970252991\n",
      "0.8826137781143188\n",
      "0.9281245470046997\n"
     ]
    }
   ],
   "source": [
    "miniLM_eval(json.load(open(\"datas2.json\",'r')))"
   ]
  },
  {
   "cell_type": "code",
   "execution_count": 11,
   "id": "a609ea50",
   "metadata": {},
   "outputs": [
    {
     "name": "stdout",
     "output_type": "stream",
     "text": [
      "0.929330587387085\n",
      "0.8221029043197632\n",
      "0.713216245174408\n",
      "0.892433226108551\n",
      "0.8916035294532776\n",
      "0.7825384736061096\n",
      "0.8471053242683411\n",
      "0.8463495373725891\n"
     ]
    },
    {
     "data": {
      "text/plain": [
       "[{'student': 'Water boils 100Â°C sea level',\n",
       "  'answer_key': 'Water boils at 100 degree celsius at sea level.',\n",
       "  'result': 0.929330587387085},\n",
       " {'student': 'Mitochondria powerhouse cell',\n",
       "  'answer_key': 'The mitochondria is the powerhouse of the cell.',\n",
       "  'result': 0.8221029043197632},\n",
       " {'student': 'Newton first law rest motion external force',\n",
       "  'answer_key': 'Newtonâ€™s first law states that an object remains in a state of rest or uniform motion unless acted upon by an external force.',\n",
       "  'result': 0.713216245174408},\n",
       " {'student': 'Photosynthesis leaves plants chloroplasts',\n",
       "  'answer_key': 'Photosynthesis happens in the leaves of plants, in the chloroplasts.',\n",
       "  'result': 0.892433226108551},\n",
       " {'student': 'Capital France Paris',\n",
       "  'answer_key': 'The capital of France is Paris.',\n",
       "  'result': 0.8916035294532776},\n",
       " {'student': 'Acceleration rate change velocity time',\n",
       "  'answer_key': 'Acceleration is the rate of change of velocity with respect to time.',\n",
       "  'result': 0.7825384736061096},\n",
       " {'student': 'Largest planet solar system Jupiter',\n",
       "  'answer_key': 'The largest planet in our solar system is Jupiter.',\n",
       "  'result': 0.8471053242683411},\n",
       " {'student': 'Right triangle Pythagoras theorem aÂ² + bÂ² = cÂ²',\n",
       "  'answer_key': 'In a right triangle, Pythagoras theorem says aÂ² + bÂ² = cÂ².',\n",
       "  'result': 0.8463495373725891}]"
      ]
     },
     "execution_count": 11,
     "metadata": {},
     "output_type": "execute_result"
    }
   ],
   "source": [
    "bert_base_eval(json.load(open(\"datas2.json\",'r')))"
   ]
  },
  {
   "cell_type": "code",
   "execution_count": 17,
   "id": "bce68a94",
   "metadata": {},
   "outputs": [
    {
     "name": "stdout",
     "output_type": "stream",
     "text": [
      "0.9990492463111877\n",
      "0.9725960493087769\n",
      "0.9732392430305481\n",
      "0.9720597863197327\n",
      "0.9818588495254517\n",
      "0.9661609530448914\n",
      "0.9929742813110352\n",
      "0.9989824891090393\n"
     ]
    },
    {
     "data": {
      "text/plain": [
       "[{'student': 'Water boils at 90 degree celsius at sea level.',\n",
       "  'answer_key': 'Water boils at 100 degree celsius at sea level.',\n",
       "  'result': 0.9990492463111877},\n",
       " {'student': 'The mitochondria is the powerhouse of the body.',\n",
       "  'answer_key': 'The mitochondria is the powerhouse of the cell.',\n",
       "  'result': 0.9725960493087769},\n",
       " {'student': 'Newtonâ€™s first law states that an object in motion stays at motion unless stopped by an external force.',\n",
       "  'answer_key': 'Newtonâ€™s first law states that an object remains in a state of rest or uniform motion unless acted upon by an external force.',\n",
       "  'result': 0.9732392430305481},\n",
       " {'student': 'Photosynthesis happens in the roots of plants.',\n",
       "  'answer_key': 'Photosynthesis happens in the leaves of plants, in the chloroplasts.',\n",
       "  'result': 0.9720597863197327},\n",
       " {'student': 'The capital of France is Berlin.',\n",
       "  'answer_key': 'The capital of France is Paris.',\n",
       "  'result': 0.9818588495254517},\n",
       " {'student': 'Acceleration is rate of change of speed with respect to distance.',\n",
       "  'answer_key': 'Acceleration is the rate of change of velocity with respect to time.',\n",
       "  'result': 0.9661609530448914},\n",
       " {'student': 'The largest planet in our solar system is Earth.',\n",
       "  'answer_key': 'The largest planet in our solar system is Jupiter.',\n",
       "  'result': 0.9929742813110352},\n",
       " {'student': 'In a right triangle, Pythagoras theorem says aÂ² + bÂ² = cÂ³.',\n",
       "  'answer_key': 'In a right triangle, Pythagoras theorem says aÂ² + bÂ² = cÂ².',\n",
       "  'result': 0.9989824891090393}]"
      ]
     },
     "execution_count": 17,
     "metadata": {},
     "output_type": "execute_result"
    }
   ],
   "source": [
    "bert_base_eval(json.load(open(\"datas.json\",'r')))"
   ]
  },
  {
   "cell_type": "code",
   "execution_count": 3,
   "id": "b9a6c13c",
   "metadata": {},
   "outputs": [
    {
     "name": "stderr",
     "output_type": "stream",
     "text": [
      "Xet Storage is enabled for this repo, but the 'hf_xet' package is not installed. Falling back to regular HTTP download. For better performance, install the package with: `pip install huggingface_hub[hf_xet]` or `pip install hf_xet`\n",
      "d:\\final-year-project-testing\\.venv\\Lib\\site-packages\\huggingface_hub\\file_download.py:143: UserWarning: `huggingface_hub` cache-system uses symlinks by default to efficiently store duplicated files but your machine does not support them in C:\\Users\\student\\.cache\\huggingface\\hub\\models--bert-large-cased. Caching files will still work but in a degraded version that might require more space on your disk. This warning can be disabled by setting the `HF_HUB_DISABLE_SYMLINKS_WARNING` environment variable. For more details, see https://huggingface.co/docs/huggingface_hub/how-to-cache#limitations.\n",
      "To support symlinks on Windows, you either need to activate Developer Mode or to run Python as an administrator. In order to activate developer mode, see this article: https://docs.microsoft.com/en-us/windows/apps/get-started/enable-your-device-for-development\n",
      "  warnings.warn(message)\n"
     ]
    }
   ],
   "source": [
    "tokenizer_large = AutoTokenizer.from_pretrained(\"bert-large-cased\")\n",
    "model_large = AutoModel.from_pretrained(\"bert-large-cased\",output_hidden_states=True)"
   ]
  },
  {
   "cell_type": "code",
   "execution_count": 5,
   "id": "36a8aa21",
   "metadata": {},
   "outputs": [
    {
     "name": "stdout",
     "output_type": "stream",
     "text": [
      "0.9975014328956604\n",
      "0.9886413216590881\n",
      "0.9853746891021729\n",
      "0.9835785627365112\n",
      "0.978088915348053\n",
      "0.9814592599868774\n",
      "0.9895030856132507\n",
      "0.9984897375106812\n"
     ]
    },
    {
     "data": {
      "text/plain": [
       "[{'student': 'Water boils at 90 degree celsius at sea level.',\n",
       "  'answer_key': 'Water boils at 100 degree celsius at sea level.',\n",
       "  'result': 0.9975014328956604},\n",
       " {'student': 'The mitochondria is the powerhouse of the body.',\n",
       "  'answer_key': 'The mitochondria is the powerhouse of the cell.',\n",
       "  'result': 0.9886413216590881},\n",
       " {'student': 'Newtonâ€™s first law states that an object in motion stays at motion unless stopped by an external force.',\n",
       "  'answer_key': 'Newtonâ€™s first law states that an object remains in a state of rest or uniform motion unless acted upon by an external force.',\n",
       "  'result': 0.9853746891021729},\n",
       " {'student': 'Photosynthesis happens in the roots of plants.',\n",
       "  'answer_key': 'Photosynthesis happens in the leaves of plants, in the chloroplasts.',\n",
       "  'result': 0.9835785627365112},\n",
       " {'student': 'The capital of France is Berlin.',\n",
       "  'answer_key': 'The capital of France is Paris.',\n",
       "  'result': 0.978088915348053},\n",
       " {'student': 'Acceleration is rate of change of speed with respect to distance.',\n",
       "  'answer_key': 'Acceleration is the rate of change of velocity with respect to time.',\n",
       "  'result': 0.9814592599868774},\n",
       " {'student': 'The largest planet in our solar system is Earth.',\n",
       "  'answer_key': 'The largest planet in our solar system is Jupiter.',\n",
       "  'result': 0.9895030856132507},\n",
       " {'student': 'In a right triangle, Pythagoras theorem says aÂ² + bÂ² = cÂ³.',\n",
       "  'answer_key': 'In a right triangle, Pythagoras theorem says aÂ² + bÂ² = cÂ².',\n",
       "  'result': 0.9984897375106812}]"
      ]
     },
     "execution_count": 5,
     "metadata": {},
     "output_type": "execute_result"
    }
   ],
   "source": [
    "import json\n",
    "def bert_base_large_eval(datas):\n",
    "    for data in datas:\n",
    "        tok_1=tokenizer_large(data[\"answer_key\"],return_tensors=\"pt\")\n",
    "        tok_2=tokenizer_large(data[\"student\"],return_tensors=\"pt\")\n",
    "        \n",
    "        sen_1=model_large(**tok_1).hidden_states[12][0][0]\n",
    "        sen_2=model_large(**tok_2).hidden_states[12][0][0]\n",
    "        similarity_score=F.cosine_similarity(sen_1.unsqueeze(0),sen_2.unsqueeze(0))\n",
    "        data[\"result\"]=similarity_score[0].item()\n",
    "        print(similarity_score[0].item())\n",
    "    return datas\n",
    "bert_base_large_eval(json.load(open(\"datas.json\",'r')))"
   ]
  },
  {
   "cell_type": "code",
   "execution_count": 3,
   "id": "b8a0e2cc",
   "metadata": {},
   "outputs": [
    {
     "name": "stderr",
     "output_type": "stream",
     "text": [
      "d:\\final-year-project-testing\\.venv\\Lib\\site-packages\\huggingface_hub\\file_download.py:143: UserWarning: `huggingface_hub` cache-system uses symlinks by default to efficiently store duplicated files but your machine does not support them in C:\\Users\\student\\.cache\\huggingface\\hub\\models--recobo--chemical-bert-uncased. Caching files will still work but in a degraded version that might require more space on your disk. This warning can be disabled by setting the `HF_HUB_DISABLE_SYMLINKS_WARNING` environment variable. For more details, see https://huggingface.co/docs/huggingface_hub/how-to-cache#limitations.\n",
      "To support symlinks on Windows, you either need to activate Developer Mode or to run Python as an administrator. In order to activate developer mode, see this article: https://docs.microsoft.com/en-us/windows/apps/get-started/enable-your-device-for-development\n",
      "  warnings.warn(message)\n",
      "Xet Storage is enabled for this repo, but the 'hf_xet' package is not installed. Falling back to regular HTTP download. For better performance, install the package with: `pip install huggingface_hub[hf_xet]` or `pip install hf_xet`\n",
      "Some weights of BertModel were not initialized from the model checkpoint at recobo/chemical-bert-uncased and are newly initialized: ['pooler.dense.bias', 'pooler.dense.weight']\n",
      "You should probably TRAIN this model on a down-stream task to be able to use it for predictions and inference.\n"
     ]
    }
   ],
   "source": [
    "tokenizer_chem = AutoTokenizer.from_pretrained(\"recobo/chemical-bert-uncased\")\n",
    "model_chem = AutoModel.from_pretrained(\"recobo/chemical-bert-uncased\",output_hidden_states=True)"
   ]
  },
  {
   "cell_type": "code",
   "execution_count": 10,
   "id": "9b0d76ea",
   "metadata": {},
   "outputs": [
    {
     "name": "stdout",
     "output_type": "stream",
     "text": [
      "0.941123366355896\n",
      "0.8748675584793091\n",
      "0.9729120135307312\n",
      "0.9875351190567017\n",
      "0.9782614707946777\n",
      "0.9324246644973755\n",
      "0.950079619884491\n",
      "0.943078339099884\n"
     ]
    },
    {
     "data": {
      "text/plain": [
       "[{'student': 'Water is made up of two atoms of hydrogen and one atom of oxygen.',\n",
       "  'answer_key': 'Water consists of two hydrogen atoms and one oxygen atom.',\n",
       "  'result': 0.941123366355896},\n",
       " {'student': 'NaCl is called sodium dioxide.',\n",
       "  'answer_key': 'NO2 is called sodium chloride.',\n",
       "  'result': 0.8748675584793091},\n",
       " {'student': 'The atomic number of carbon is 14.',\n",
       "  'answer_key': 'The atomic number of carbon is 6.',\n",
       "  'result': 0.9729120135307312},\n",
       " {'student': 'An acid increases the concentration of hydroxide ions in a solution.',\n",
       "  'answer_key': 'An acid increases the concentration of hydrogen ions in a solution.',\n",
       "  'result': 0.9875351190567017},\n",
       " {'student': 'Covalent bonds are formed by the transfer of electrons.',\n",
       "  'answer_key': 'Covalent bonds are formed by the sharing of electrons.',\n",
       "  'result': 0.9782614707946777},\n",
       " {'student': 'The pH of a neutral solution is 7.',\n",
       "  'answer_key': 'A neutral solution has a pH of 7.',\n",
       "  'result': 0.9324246644973755},\n",
       " {'student': 'Ammonia is a strong acid used in fertilizers.',\n",
       "  'answer_key': 'Ammonia is a weak base commonly used in fertilizers.',\n",
       "  'result': 0.950079619884491},\n",
       " {'student': 'Electrons are found in the nucleus of an atom.',\n",
       "  'answer_key': 'Electrons orbit the nucleus of an atom in electron shells.',\n",
       "  'result': 0.943078339099884}]"
      ]
     },
     "execution_count": 10,
     "metadata": {},
     "output_type": "execute_result"
    }
   ],
   "source": [
    "import json\n",
    "def bert_base_large_eval(datas):\n",
    "    for data in datas:\n",
    "        tok_1=tokenizer_chem(data[\"answer_key\"],return_tensors=\"pt\")\n",
    "        tok_2=tokenizer_chem(data[\"student\"],return_tensors=\"pt\")\n",
    "        \n",
    "        sen_1=model_chem(**tok_1).hidden_states[12][0][0]\n",
    "        sen_2=model_chem(**tok_2).hidden_states[12][0][0]\n",
    "        similarity_score=F.cosine_similarity(sen_1.unsqueeze(0),sen_2.unsqueeze(0))\n",
    "        data[\"result\"]=similarity_score[0].item()\n",
    "        print(similarity_score[0].item())\n",
    "    return datas\n",
    "bert_base_large_eval(json.load(open(\"chem1.json\",'r')))"
   ]
  },
  {
   "cell_type": "code",
   "execution_count": 13,
   "id": "2c5cf394",
   "metadata": {},
   "outputs": [
    {
     "name": "stdout",
     "output_type": "stream",
     "text": [
      "0.968495786190033\n",
      "0.9103330969810486\n",
      "0.9139240980148315\n",
      "0.9621149301528931\n",
      "0.9078491926193237\n",
      "0.8751125931739807\n",
      "0.9483076930046082\n",
      "0.9091223478317261\n"
     ]
    },
    {
     "data": {
      "text/plain": [
       "[{'student': 'Water is composed of hydrogen and oxygen atoms. It has a bent molecular shape due to the two lone pairs on the oxygen atom.',\n",
       "  'answer_key': 'Water consists of two hydrogen atoms and one oxygen atom, forming a bent shape because of lone pairs on oxygen. This gives water its polar nature.',\n",
       "  'result': 0.968495786190033},\n",
       " {'student': 'Sodium chloride is a compound formed when sodium gives up one electron to chlorine. This forms an ionic bond between them.',\n",
       "  'answer_key': 'NaCl forms through ionic bonding, where sodium donates an electron to chlorine. The resulting ions are held together by electrostatic forces.',\n",
       "  'result': 0.9103330969810486},\n",
       " {'student': 'Carbon has an atomic number of 14 and forms 2 bonds with other elements. It is a nonmetal.',\n",
       "  'answer_key': 'Carbon has an atomic number of 6, meaning it has 6 protons. It typically forms 4 covalent bonds due to its 4 valence electrons.',\n",
       "  'result': 0.9139240980148315},\n",
       " {'student': 'Acids increase hydroxide ion concentration when dissolved in water. They taste sour and turn red litmus blue.',\n",
       "  'answer_key': 'Acids increase hydrogen ion (H⁺) concentration in aqueous solutions. They turn blue litmus red and often taste sour.',\n",
       "  'result': 0.9621149301528931},\n",
       " {'student': 'Covalent bonds involve the complete transfer of electrons between atoms. This results in positive and negative ions.',\n",
       "  'answer_key': 'Covalent bonding involves the sharing of electron pairs between atoms, creating molecules without forming ions.',\n",
       "  'result': 0.9078491926193237},\n",
       " {'student': 'A neutral solution has a pH of 7. It does not produce hydrogen or hydroxide ions in water.',\n",
       "  'answer_key': 'Neutral solutions have a pH exactly equal to 7. Pure water is an example, where concentrations of H⁺ and OH⁻ are equal.',\n",
       "  'result': 0.8751125931739807},\n",
       " {'student': 'Ammonia is a weak base used in cleaning agents and fertilizers. It accepts protons in solution.',\n",
       "  'answer_key': \"Ammonia (NH₃) acts as a weak base by accepting protons (H⁺) in aqueous solutions. It's commonly found in household cleaners and fertilizers.\",\n",
       "  'result': 0.9483076930046082},\n",
       " {'student': 'Electrons are located inside the nucleus with protons and neutrons. They contribute to the mass of the atom.',\n",
       "  'answer_key': 'Electrons orbit the nucleus in defined energy levels or shells. They have negligible mass and do not reside in the nucleus.',\n",
       "  'result': 0.9091223478317261}]"
      ]
     },
     "execution_count": 13,
     "metadata": {},
     "output_type": "execute_result"
    }
   ],
   "source": [
    "bert_base_large_eval(json.load(open(\"chem2.json\",'r',encoding=\"utf-8\")))"
   ]
  },
  {
   "cell_type": "code",
   "execution_count": 14,
   "id": "48687aa4",
   "metadata": {},
   "outputs": [
    {
     "name": "stdout",
     "output_type": "stream",
     "text": [
      "0.9647703170776367\n",
      "0.9330381751060486\n",
      "0.9301390647888184\n",
      "0.9197496771812439\n",
      "0.9528072476387024\n",
      "0.9427844285964966\n",
      "0.9344231486320496\n",
      "0.9267257452011108\n"
     ]
    },
    {
     "data": {
      "text/plain": [
       "[{'student': 'Water is composed of hydrogen and oxygen atoms. It is a universal solvent and has a bent molecular geometry due to the lone pairs on the oxygen. These lone pairs cause a partial negative charge near the oxygen atom, making the molecule polar.',\n",
       "  'answer_key': 'A water molecule consists of two hydrogen atoms and one oxygen atom, forming a bent shape because of two lone electron pairs on the oxygen. This polarity enables hydrogen bonding, making water an excellent solvent for many substances.',\n",
       "  'result': 0.9647703170776367},\n",
       " {'student': 'Sodium chloride is an example of a covalent compound formed when sodium and chlorine share electrons. It dissolves well in water due to its polar nature.',\n",
       "  'answer_key': 'Sodium chloride (NaCl) is an ionic compound formed when sodium donates an electron to chlorine, creating positive (Na⁺) and negative (Cl⁻) ions. These ions are held together by strong electrostatic forces and readily dissociate in water.',\n",
       "  'result': 0.9330381751060486},\n",
       " {'student': \"Carbon has an atomic number of 6 and can form four covalent bonds. It is found in all organic compounds, including carbohydrates, proteins, and lipids. Carbon's ability to catenate makes it ideal for forming complex molecules.\",\n",
       "  'answer_key': 'The atomic number of carbon is 6, indicating it has 6 protons. Carbon can form four covalent bonds due to its four valence electrons, allowing it to create long chains and rings. This property is fundamental to organic chemistry.',\n",
       "  'result': 0.9301390647888184},\n",
       " {'student': 'Acids taste bitter and turn red litmus blue. They decrease the concentration of hydrogen ions in solution and are slippery to touch.',\n",
       "  'answer_key': 'Acids are substances that increase the concentration of hydrogen ions (H⁺) when dissolved in water. They taste sour, turn blue litmus paper red, and react with bases to form salts and water in neutralization reactions.',\n",
       "  'result': 0.9197496771812439},\n",
       " {'student': 'Covalent bonding involves the sharing of electrons between nonmetals. These shared electrons allow atoms to attain a stable octet configuration. Molecules like H₂O and CH₄ are examples of covalently bonded compounds.',\n",
       "  'answer_key': 'Covalent bonds are formed when two atoms share one or more pairs of electrons. Typically occurring between nonmetal atoms, this bonding allows both atoms to reach a stable electron configuration. Water and methane are common examples.',\n",
       "  'result': 0.9528072476387024},\n",
       " {'student': 'A neutral solution has a pH of 7, meaning it contains equal concentrations of hydrogen and hydroxide ions. Distilled water is an example of a neutral solution, and it does not conduct electricity very well.',\n",
       "  'answer_key': 'Neutral solutions have a pH of exactly 7, where the concentrations of hydrogen ions (H⁺) and hydroxide ions (OH⁻) are equal. Pure water is the most common example and has very low conductivity unless ions are present.',\n",
       "  'result': 0.9427844285964966},\n",
       " {'student': 'Ammonia is a basic gas that turns red litmus blue. In water, it acts as a weak acid, donating hydrogen ions to form ammonium. It is commonly used in fertilizers.',\n",
       "  'answer_key': 'Ammonia (NH₃) is a weak base that accepts protons in aqueous solution to form ammonium ions (NH₄⁺). It is widely used in fertilizers due to its nitrogen content and also found in household cleaners.',\n",
       "  'result': 0.9344231486320496},\n",
       " {'student': 'Electrons are located in the nucleus along with protons and neutrons. Their number determines the atomic mass and they do not move.',\n",
       "  'answer_key': 'Electrons are located in orbitals surrounding the atomic nucleus. They have a negligible mass and are responsible for chemical bonding. Their arrangement in shells determines an atom’s reactivity.',\n",
       "  'result': 0.9267257452011108}]"
      ]
     },
     "execution_count": 14,
     "metadata": {},
     "output_type": "execute_result"
    }
   ],
   "source": [
    "bert_base_large_eval(json.load(open(\"chem3.json\",'r',encoding=\"utf-8\")))"
   ]
  },
  {
   "cell_type": "code",
   "execution_count": null,
   "id": "63f58afa",
   "metadata": {},
   "outputs": [],
   "source": []
  }
 ],
 "metadata": {
  "kernelspec": {
   "display_name": ".venv (3.13.2)",
   "language": "python",
   "name": "python3"
  },
  "language_info": {
   "codemirror_mode": {
    "name": "ipython",
    "version": 3
   },
   "file_extension": ".py",
   "mimetype": "text/x-python",
   "name": "python",
   "nbconvert_exporter": "python",
   "pygments_lexer": "ipython3",
   "version": "3.13.2"
  }
 },
 "nbformat": 4,
 "nbformat_minor": 5
}
